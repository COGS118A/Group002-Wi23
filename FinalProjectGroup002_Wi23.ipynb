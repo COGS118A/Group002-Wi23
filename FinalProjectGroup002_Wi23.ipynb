{
  "cells": [
    {
      "cell_type": "markdown",
      "metadata": {
        "id": "6bRaQTyirHo-"
      },
      "source": [
        "# COGS 118A - Final Project"
      ]
    },
    {
      "cell_type": "markdown",
      "metadata": {
        "id": "9KelRlXMrHo_"
      },
      "source": [
        "# Determining the Fair-market Price of Used Cars using Machine Learning Models\n",
        "\n",
        "## Group members\n",
        "\n",
        "- Adi Krishnamoorthy\n",
        "- Akshat Mittal\n",
        "- Anthony Truong\n",
        "- Brandon Kao"
      ]
    },
    {
      "cell_type": "markdown",
      "metadata": {
        "id": "TBnNJwa1rHo_"
      },
      "source": [
        "# Abstract \n",
        "--------------------------------------------------------\n",
        "\n",
        "The goal of this project is to develop and algorithm that can determine the fair market value of used cars based on a variety of factors. The dataset we intend on using contains multiple specifications of a car being sold such as the make, model, year etc. In our project, we ran a variety of regression models (DecisionTreeRegressor, LinearSVR, KNeighborsRegressor, RandomForestRegressor, AdaBoost Regressor, GradientBoostingRegressor, BaggingRegressor, MLPRegressor, SGDRegressor) on our cleaned dataset and measured success based on the values of evaluation metrics, like the mean squared error and $R^2$ score. Our results showed that the RandomForest and Bagging Regressors had the greatest mean $R^2$ scores - RandomForestRegressor had an $R^2$ of 0.9286 and BaggingRegressor had an $R^2$ of 0.9310. We therefore concluded that these two were the best regressors at measuring the market price of used cars."
      ]
    },
    {
      "cell_type": "markdown",
      "metadata": {
        "id": "1DsaLjVxrHo_"
      },
      "source": [
        "# Background\n",
        "\n",
        "------------------------------------------------------------------------\n",
        "\n",
        "According to Mordor Intelligence, the US used cars market was evaluated at USD 195.84 billion in 2021 and is expected to balloon to USD 302.47 billion by 2027 (MordorIntelligence). In comparison, the used apparel market in the US is expected to grow to USD 82 billion by 2026 (Clark). A market this big begs to be studied and an algorithm that can provide customers with an estimate of the value of the car they are looking to buy or sell will help them make the right financial decisions. Prior research in this field has analyzed the used car markets in various foreign countries such as the UAE (AlShared) and Turkey (Bilen). Work done by Bilen on the Turkey market was able to achieve the lowest estimation error of MAE 0.01050 and MSE 0.000281 using the Fisher+ANN model. However, the only variables they looked into were horsepower, engine, brand, gear, and the model year. In contrast, the UAE study deals with less technical and more superficial factors such as the mileage and the color of the vehicle. Using the PSO-GRA-BPNN model, the study was able to achieve an MAE of 0.475. "
      ]
    },
    {
      "cell_type": "markdown",
      "metadata": {
        "id": "i_RU70LcrHo_"
      },
      "source": [
        "# Problem Statement\n",
        "------------------------------------------------------------\n",
        "\n",
        "The problem that we are solving is the unknown and ambiguous pricing of used cars in the U.S for both buyers and sellers. The buyer does not want to pay more than what the car is worth, but can not limit their budget so much that they are unable to purchase an acceptable car at all. For the seller, they usually want to sell the car as soon as possible, but avoid decreasing the price to the point where they’re losing money. The ability to accurately predict used car prices has significant implications for both the automobile industry as well as for individual buyers and sellers. To quantify and measure the problem, we can look at the variance between cars with very similar features and how much their prices and how much time the car is listed to sell and if that is consistent with our prediction or potentially survey people if they are satisfied with the amount of money they paid/received for their car (iSeeCars). But ultimately, we want to accurately predict what a used car’s listing price will be given some features such as mileage or age. As the used car market does not seem to be slowing down anytime soon (ACV Auctions), the problem will be replicable."
      ]
    },
    {
      "cell_type": "markdown",
      "metadata": {
        "id": "toB4RCwarHo_"
      },
      "source": [
        "# Data\n",
        "-----------------------------------------------------------------------------\n",
        "\n",
        "We are using three different datasets found here:\n",
        "\n",
        "- df0 which can be found at: https://www.kaggle.com/datasets/ananaymital/us-used-cars-dataset\n",
        "\n",
        "- df1 which can be found at: https://www.kaggle.com/datasets/austinreese/craigslist-carstrucks-data\n",
        "\n",
        "- df2 which can be found at: https://www.kaggle.com/datasets/3ea0a6a45dbd4713a8759988845f1a58038036d84515ded58f65a2ff2bd32e00?select=us-dealers-used.csv (Only the US section since different countries have different markets, regulations, etc surrounding this industry)\n",
        "\n",
        "- With millions of observations per dataset, we have taken a sample of each dataset for our use. In our samples, df0 has 100,000 observations and 66 features, df1 has 100,000 observations and 27 features, and df2 has 100,000 observations and 22 features.\n",
        "\n",
        "- We have combined these datasets into 1 single huge dataset and cleaned it for our purposes\n",
        "\n",
        "- To combine these 3 different datasets, we needed to select features common across all datasets otherwise we would have a lot of null values. The features we chose are:\n",
        "  - VIN \n",
        "  - Year\n",
        "  - Make\n",
        "  - Model \n",
        "  - City\n",
        "  - Mileage\n",
        "  - Fuel\n",
        "  - Transmission \n",
        "  - Engine\n",
        "  - Drive\n",
        "  - Latitude\n",
        "  - Longitude \n",
        "  - Body Type\n",
        "  - Country of Manufacture \n",
        "  - Luxury \n",
        "\n",
        "- However, in order to get a coherent dataset, we needed to do a lot of cleaning.\n",
        "  - Features besides the Latitude, Longitude, Country of Manufacture, and Luxury were common across all datasets. \n",
        "  - Latitude and Longitude were present in df0 and df1. Using the pgeocode package found at https://pypi.org/project/pgeocode/, we can find the coordinates with the help of the zip code feature present in df2.\n",
        "  - VIN(Vehicle Identification Number) is a unqiue number attached to each vehicle for identification purposes. Thus, the number itself is not a useful feature but useful information can be derived from it. \n",
        "    - Using the VIN decoder found at https://pypi.org/project/vininfo/, we can find the country of manufacture for the vehicle\n",
        "  - The luxury section confirms whether a given vehicle is considered luxury or not. This is considered somewhat subjective so we used the make of the car to determine if its luxury or not based on the list provided here: https://luxe.digital/business/digital-luxury-ranking/best-luxury-car-brands/\n",
        "\n",
        "- Next, values that meant the same thing but were not coded as such were fixed. For example, A and Automatic meant the same thing in the transmission section and both were corrected to \"automatic.\"\n",
        "\n",
        "- Observations with null values were dropped as well. \n",
        "\n",
        "- Lastly, we one hot encoded the categorical variables so that we can use them in the model. \n",
        "\n",
        "- The notebook that handled the cleaning can be found here: https://github.com/COGS118A/Group002-Wi23/blob/main/dataprocessing.ipynb\n",
        "\n",
        "- Some critical values are the make, year, and the miles travled of the vehicle.Certain makes like Ferrari and Lamborghini and the year of the vehicle were highly correlated to higher prices while miles travelled were highly correlated to lower prices which makes intuitive sense.\n"
      ]
    },
    {
      "cell_type": "markdown",
      "metadata": {
        "id": "o5vMOC2ZrHo_"
      },
      "source": [
        "# Proposed Solution\n",
        "--------------------------------------------------------------------\n",
        "\n",
        "A possible solution to the problem of predicting the prices of used cars is to build a machine learning model with polynomial regression that can learn the relationship between the car features and its price from historical data.\n",
        "\n",
        "\n",
        "The goal of this solution is to create a model that can accurately predict the price of a used car based on its characteristics such as the make, model, year, mileage, condition, location, and other relevant features. To effectively model the intricate connections between each feature, a classification or regression tree(CART) can be used, although it runs the risk of overfitting and high variance. \n",
        "\n",
        "In order to optimize the quality of the model, we will conduct pre-processing on the data by eliminating less useful features and prune less useful branches. First, we need to prepare the data for the analysis by separating the features from the prediction variable, which is the price listed, and then dividing the data into training and testing sets using train_test_split. \n",
        "\n",
        "Next, we can clean the data by getting rid of features that won't be useful for the analysis and make sure the rest are comparable with one another. After that, we can use a set of of regression modules from sklearn (namely DecisionTreeRegressor, LinearSVR, KNeighborsRegressor, RandomForestRegressor, AdaBoost Regressor, GradientBoostingRegressor, BaggingRegressor, MLPRegressor, and SGDRegressor) to create and fit trees and models with different hyperparameters such as max_depth and use grid search to choose the best one. \n",
        "\n",
        "Finally, we can evaluate the model's accuracy using evaluation metrics such as mean squared error, mean absolute error, and $R^2$ score. We can compare our resultant model to pre-existing models that also predict prices of used cars but do so with different methods. These include the SOTA series of AI Blue Book models created by Yang et al., which used 6 different models from ranging from CNN to HOG."
      ]
    },
    {
      "cell_type": "markdown",
      "metadata": {
        "id": "6iMB7yzArHpA"
      },
      "source": [
        "# Evaluation Metrics\n",
        "----------------------------------------------------------------------------\n",
        "\n",
        "$R^2$ Score, Mean Squared Error, Mean Absolute Error\n",
        "\n",
        "As we will be predicting the price of car listings, we can measure the performance of our model by using the coefficient of determination (or the $R^2$ score), the Mean Squared Error (MSE), and the Mean Absolute Error (MAE). The  $R^2$ score is a metric we can to measure the overall performance of our regression model and can be representated by the following:\n",
        "\n",
        "$$\n",
        "R^2 = 1 - \\frac{\\sum_i\\left(Y_i-\\hat{Y}_i\\right)^2}{\\sum_i\\left(Y_i-\\bar{Y}\\right)^2}\n",
        "$$\n",
        "\n",
        "where $\\bar{Y}$ is the mean. In Sklearn, the value of $R^2$ can range from $-\\infty$ to 1, where 1 represents a perfect model and where 0 or below represents a model that is worse than guessing.\n",
        "\n",
        "\n",
        "The MSE is the mean of the squared error and can be expressed mathematically as\n",
        "\n",
        "$$\n",
        "\\text{MSE} = \\frac{1}{n}\\sum_{i=1}^n\\left(Y_i-\\hat{Y}_i\\right)^2\n",
        "$$\n",
        "\n",
        "MAE is the mean of the absolute error and can be expressed mathematically as\n",
        "\n",
        "$$\n",
        "\\text{MAE} = \\frac{1}{n}\\sum_{i=1}^n\\left|Y_i-\\hat{Y}_i\\right|\n",
        "$$\n",
        "\n",
        "where $Y_i$ are the observed prices and $Y_i$ hat are the predicted prices."
      ]
    },
    {
      "cell_type": "markdown",
      "metadata": {
        "id": "VpIlrT6clL31"
      },
      "source": [
        "# Results\n"
      ]
    },
    {
      "cell_type": "markdown",
      "metadata": {
        "id": "uhsLFxRblL37"
      },
      "source": [
        "### Data Preprocessing "
      ]
    },
    {
      "cell_type": "markdown",
      "metadata": {
        "id": "yWq9xPaJlL38"
      },
      "source": [
        "First we import the cleaned data from `raw_df.csv`."
      ]
    },
    {
      "cell_type": "code",
      "execution_count": null,
      "metadata": {
        "id": "O0Iga7ABlL39",
        "outputId": "3ebaef06-1682-49ab-8c08-191f2b6318b3"
      },
      "outputs": [
        {
          "data": {
            "text/html": [
              "<div>\n",
              "<style scoped>\n",
              "    .dataframe tbody tr th:only-of-type {\n",
              "        vertical-align: middle;\n",
              "    }\n",
              "\n",
              "    .dataframe tbody tr th {\n",
              "        vertical-align: top;\n",
              "    }\n",
              "\n",
              "    .dataframe thead th {\n",
              "        text-align: right;\n",
              "    }\n",
              "</style>\n",
              "<table border=\"1\" class=\"dataframe\">\n",
              "  <thead>\n",
              "    <tr style=\"text-align: right;\">\n",
              "      <th></th>\n",
              "      <th>vin</th>\n",
              "      <th>year</th>\n",
              "      <th>make</th>\n",
              "      <th>model</th>\n",
              "      <th>city</th>\n",
              "      <th>mileage</th>\n",
              "      <th>fuel</th>\n",
              "      <th>transmission</th>\n",
              "      <th>engine</th>\n",
              "      <th>drive</th>\n",
              "      <th>price</th>\n",
              "      <th>lat</th>\n",
              "      <th>long</th>\n",
              "      <th>body_type</th>\n",
              "      <th>country</th>\n",
              "      <th>luxury</th>\n",
              "    </tr>\n",
              "  </thead>\n",
              "  <tbody>\n",
              "    <tr>\n",
              "      <th>0</th>\n",
              "      <td>ZACNJABB5KPJ92081</td>\n",
              "      <td>2019.0</td>\n",
              "      <td>jeep</td>\n",
              "      <td>renegade</td>\n",
              "      <td>bayamon</td>\n",
              "      <td>7.0</td>\n",
              "      <td>gasoline</td>\n",
              "      <td>automatic</td>\n",
              "      <td>2.0</td>\n",
              "      <td>fwd</td>\n",
              "      <td>23141.0</td>\n",
              "      <td>18.3988</td>\n",
              "      <td>-66.1582</td>\n",
              "      <td>suv</td>\n",
              "      <td>Italy</td>\n",
              "      <td>0</td>\n",
              "    </tr>\n",
              "    <tr>\n",
              "      <th>1</th>\n",
              "      <td>SALCJ2FX1LH858117</td>\n",
              "      <td>2020.0</td>\n",
              "      <td>landrover</td>\n",
              "      <td>discoverysport</td>\n",
              "      <td>sanjuan</td>\n",
              "      <td>8.0</td>\n",
              "      <td>gasoline</td>\n",
              "      <td>automatic</td>\n",
              "      <td>2.0</td>\n",
              "      <td>awd</td>\n",
              "      <td>46500.0</td>\n",
              "      <td>18.4439</td>\n",
              "      <td>-66.0785</td>\n",
              "      <td>suv</td>\n",
              "      <td>United Kingdom</td>\n",
              "      <td>1</td>\n",
              "    </tr>\n",
              "    <tr>\n",
              "      <th>2</th>\n",
              "      <td>SALRR2RV0L2433391</td>\n",
              "      <td>2020.0</td>\n",
              "      <td>landrover</td>\n",
              "      <td>discovery</td>\n",
              "      <td>sanjuan</td>\n",
              "      <td>11.0</td>\n",
              "      <td>gasoline</td>\n",
              "      <td>automatic</td>\n",
              "      <td>3.0</td>\n",
              "      <td>awd</td>\n",
              "      <td>67430.0</td>\n",
              "      <td>18.4439</td>\n",
              "      <td>-66.0785</td>\n",
              "      <td>suv</td>\n",
              "      <td>United Kingdom</td>\n",
              "      <td>1</td>\n",
              "    </tr>\n",
              "    <tr>\n",
              "      <th>3</th>\n",
              "      <td>SALCJ2FXXLH862327</td>\n",
              "      <td>2020.0</td>\n",
              "      <td>landrover</td>\n",
              "      <td>discoverysport</td>\n",
              "      <td>sanjuan</td>\n",
              "      <td>7.0</td>\n",
              "      <td>gasoline</td>\n",
              "      <td>automatic</td>\n",
              "      <td>2.0</td>\n",
              "      <td>awd</td>\n",
              "      <td>48880.0</td>\n",
              "      <td>18.4439</td>\n",
              "      <td>-66.0785</td>\n",
              "      <td>suv</td>\n",
              "      <td>United Kingdom</td>\n",
              "      <td>1</td>\n",
              "    </tr>\n",
              "    <tr>\n",
              "      <th>4</th>\n",
              "      <td>SALYK2EX1LA261711</td>\n",
              "      <td>2020.0</td>\n",
              "      <td>landrover</td>\n",
              "      <td>rangerovervelar</td>\n",
              "      <td>sanjuan</td>\n",
              "      <td>12.0</td>\n",
              "      <td>gasoline</td>\n",
              "      <td>automatic</td>\n",
              "      <td>2.0</td>\n",
              "      <td>awd</td>\n",
              "      <td>66903.0</td>\n",
              "      <td>18.4439</td>\n",
              "      <td>-66.0785</td>\n",
              "      <td>suv</td>\n",
              "      <td>United Kingdom</td>\n",
              "      <td>1</td>\n",
              "    </tr>\n",
              "  </tbody>\n",
              "</table>\n",
              "</div>"
            ],
            "text/plain": [
              "                 vin    year       make            model     city  mileage  \\\n",
              "0  ZACNJABB5KPJ92081  2019.0       jeep         renegade  bayamon      7.0   \n",
              "1  SALCJ2FX1LH858117  2020.0  landrover   discoverysport  sanjuan      8.0   \n",
              "2  SALRR2RV0L2433391  2020.0  landrover        discovery  sanjuan     11.0   \n",
              "3  SALCJ2FXXLH862327  2020.0  landrover   discoverysport  sanjuan      7.0   \n",
              "4  SALYK2EX1LA261711  2020.0  landrover  rangerovervelar  sanjuan     12.0   \n",
              "\n",
              "       fuel transmission  engine drive    price      lat     long body_type  \\\n",
              "0  gasoline    automatic     2.0   fwd  23141.0  18.3988 -66.1582       suv   \n",
              "1  gasoline    automatic     2.0   awd  46500.0  18.4439 -66.0785       suv   \n",
              "2  gasoline    automatic     3.0   awd  67430.0  18.4439 -66.0785       suv   \n",
              "3  gasoline    automatic     2.0   awd  48880.0  18.4439 -66.0785       suv   \n",
              "4  gasoline    automatic     2.0   awd  66903.0  18.4439 -66.0785       suv   \n",
              "\n",
              "          country  luxury  \n",
              "0           Italy       0  \n",
              "1  United Kingdom       1  \n",
              "2  United Kingdom       1  \n",
              "3  United Kingdom       1  \n",
              "4  United Kingdom       1  "
            ]
          },
          "execution_count": 2,
          "metadata": {},
          "output_type": "execute_result"
        }
      ],
      "source": [
        "df = pd.read_csv(\"raw_df.csv\")\n",
        "df.head()"
      ]
    },
    {
      "cell_type": "markdown",
      "metadata": {
        "id": "Zxas-J19lL3_"
      },
      "source": [
        "Next we drop the `vin` feature, as it is no longer needed, and split our dataset into `X`, our predictor features, and `y`, our target feature. Then we split our dataset into training and testing sets with a test set size of 0.2."
      ]
    },
    {
      "cell_type": "code",
      "execution_count": null,
      "metadata": {
        "id": "XW2IhYi_lL4A"
      },
      "outputs": [],
      "source": [
        "df = df.drop(columns=\"vin\")\n",
        "X = df.drop(columns=[\"price\"])\n",
        "y = df.price\n",
        "\n",
        "X_train, X_test, y_train, y_test = train_test_split(X, y, test_size=0.2, random_state=42)"
      ]
    },
    {
      "cell_type": "markdown",
      "metadata": {
        "id": "PmSqqya6lL4C"
      },
      "source": [
        "#### Categorical Features\n",
        "\n",
        "Initially, we attempted to use One-Hot Encoding to encode our categorical features. However, we found that since we had so many categorical features and that many of the categorical features had a large number of categories, One-Hot Encoding would be too impractical since it would vastly increase the dimensions of our data. We decide to instead use an encoding technique known as Target Encoding, which essentially works by encoding each category in a categorical feature to its mean target value. To perform the Target Encoding, we use a package called `category_encoders`.\n",
        "\n",
        "The following are some links which explain more about Target Encoding, and in addition the docs for the `TargetEncoder` class of the `category_encoders` package. \n",
        "- https://contrib.scikit-learn.org/category_encoders/targetencoder.html\n",
        "- https://medium.com/swlh/stop-one-hot-encoding-your-categorical-features-avoid-curse-of-dimensionality-16743c32cea4\n",
        "- https://towardsdatascience.com/target-encoding-for-multi-class-classification-c9a7bcb1a53\n",
        "- https://www.kaggle.com/code/arashnic/an-overview-of-categorical-encoding-methods/notebook\n"
      ]
    },
    {
      "cell_type": "code",
      "execution_count": null,
      "metadata": {
        "id": "tVueZL_FlL4D"
      },
      "outputs": [],
      "source": [
        "#pip install category_encoders"
      ]
    },
    {
      "cell_type": "code",
      "execution_count": null,
      "metadata": {
        "id": "Jf6PXldTlL4E",
        "outputId": "df179a3b-c062-4d23-c2dd-816bec5f4221"
      },
      "outputs": [
        {
          "data": {
            "text/html": [
              "<div>\n",
              "<style scoped>\n",
              "    .dataframe tbody tr th:only-of-type {\n",
              "        vertical-align: middle;\n",
              "    }\n",
              "\n",
              "    .dataframe tbody tr th {\n",
              "        vertical-align: top;\n",
              "    }\n",
              "\n",
              "    .dataframe thead th {\n",
              "        text-align: right;\n",
              "    }\n",
              "</style>\n",
              "<table border=\"1\" class=\"dataframe\">\n",
              "  <thead>\n",
              "    <tr style=\"text-align: right;\">\n",
              "      <th></th>\n",
              "      <th>year</th>\n",
              "      <th>make</th>\n",
              "      <th>model</th>\n",
              "      <th>city</th>\n",
              "      <th>mileage</th>\n",
              "      <th>fuel</th>\n",
              "      <th>transmission</th>\n",
              "      <th>engine</th>\n",
              "      <th>drive</th>\n",
              "      <th>lat</th>\n",
              "      <th>long</th>\n",
              "      <th>body_type</th>\n",
              "      <th>country</th>\n",
              "      <th>luxury</th>\n",
              "    </tr>\n",
              "  </thead>\n",
              "  <tbody>\n",
              "    <tr>\n",
              "      <th>163854</th>\n",
              "      <td>2018.0</td>\n",
              "      <td>23645.116314</td>\n",
              "      <td>28829.964800</td>\n",
              "      <td>30887.826322</td>\n",
              "      <td>28539.0</td>\n",
              "      <td>29968.659786</td>\n",
              "      <td>30769.848609</td>\n",
              "      <td>4.3</td>\n",
              "      <td>35288.379780</td>\n",
              "      <td>42.7376</td>\n",
              "      <td>-84.6244</td>\n",
              "      <td>30699.107945</td>\n",
              "      <td>27659.651232</td>\n",
              "      <td>0</td>\n",
              "    </tr>\n",
              "    <tr>\n",
              "      <th>22733</th>\n",
              "      <td>2019.0</td>\n",
              "      <td>32092.803690</td>\n",
              "      <td>14322.460149</td>\n",
              "      <td>25447.120805</td>\n",
              "      <td>11887.0</td>\n",
              "      <td>29968.659786</td>\n",
              "      <td>30769.848609</td>\n",
              "      <td>3.0</td>\n",
              "      <td>33132.822462</td>\n",
              "      <td>40.7164</td>\n",
              "      <td>-73.6308</td>\n",
              "      <td>30765.265681</td>\n",
              "      <td>27046.750482</td>\n",
              "      <td>0</td>\n",
              "    </tr>\n",
              "    <tr>\n",
              "      <th>162652</th>\n",
              "      <td>2018.0</td>\n",
              "      <td>36999.171182</td>\n",
              "      <td>25883.719745</td>\n",
              "      <td>36142.967326</td>\n",
              "      <td>17235.0</td>\n",
              "      <td>29968.659786</td>\n",
              "      <td>30769.848609</td>\n",
              "      <td>2.0</td>\n",
              "      <td>17006.168049</td>\n",
              "      <td>37.7526</td>\n",
              "      <td>-121.7700</td>\n",
              "      <td>30765.265681</td>\n",
              "      <td>27659.651232</td>\n",
              "      <td>0</td>\n",
              "    </tr>\n",
              "    <tr>\n",
              "      <th>135676</th>\n",
              "      <td>2019.0</td>\n",
              "      <td>42646.498966</td>\n",
              "      <td>48543.762282</td>\n",
              "      <td>47747.539987</td>\n",
              "      <td>20319.0</td>\n",
              "      <td>29968.659786</td>\n",
              "      <td>30769.848609</td>\n",
              "      <td>4.4</td>\n",
              "      <td>35288.379780</td>\n",
              "      <td>42.0581</td>\n",
              "      <td>-88.0482</td>\n",
              "      <td>31392.968850</td>\n",
              "      <td>41041.052478</td>\n",
              "      <td>1</td>\n",
              "    </tr>\n",
              "    <tr>\n",
              "      <th>87454</th>\n",
              "      <td>2020.0</td>\n",
              "      <td>23645.116314</td>\n",
              "      <td>21411.793573</td>\n",
              "      <td>28376.435282</td>\n",
              "      <td>10.0</td>\n",
              "      <td>29968.659786</td>\n",
              "      <td>30769.848609</td>\n",
              "      <td>2.0</td>\n",
              "      <td>35288.379780</td>\n",
              "      <td>41.4646</td>\n",
              "      <td>-72.8195</td>\n",
              "      <td>30765.265681</td>\n",
              "      <td>27046.750482</td>\n",
              "      <td>0</td>\n",
              "    </tr>\n",
              "  </tbody>\n",
              "</table>\n",
              "</div>"
            ],
            "text/plain": [
              "          year          make         model          city  mileage  \\\n",
              "163854  2018.0  23645.116314  28829.964800  30887.826322  28539.0   \n",
              "22733   2019.0  32092.803690  14322.460149  25447.120805  11887.0   \n",
              "162652  2018.0  36999.171182  25883.719745  36142.967326  17235.0   \n",
              "135676  2019.0  42646.498966  48543.762282  47747.539987  20319.0   \n",
              "87454   2020.0  23645.116314  21411.793573  28376.435282     10.0   \n",
              "\n",
              "                fuel  transmission  engine         drive      lat      long  \\\n",
              "163854  29968.659786  30769.848609     4.3  35288.379780  42.7376  -84.6244   \n",
              "22733   29968.659786  30769.848609     3.0  33132.822462  40.7164  -73.6308   \n",
              "162652  29968.659786  30769.848609     2.0  17006.168049  37.7526 -121.7700   \n",
              "135676  29968.659786  30769.848609     4.4  35288.379780  42.0581  -88.0482   \n",
              "87454   29968.659786  30769.848609     2.0  35288.379780  41.4646  -72.8195   \n",
              "\n",
              "           body_type       country  luxury  \n",
              "163854  30699.107945  27659.651232       0  \n",
              "22733   30765.265681  27046.750482       0  \n",
              "162652  30765.265681  27659.651232       0  \n",
              "135676  31392.968850  41041.052478       1  \n",
              "87454   30765.265681  27046.750482       0  "
            ]
          },
          "execution_count": 5,
          "metadata": {},
          "output_type": "execute_result"
        }
      ],
      "source": [
        "from category_encoders.target_encoder import TargetEncoder\n",
        "\n",
        "enc = TargetEncoder(cols=['make', 'model', 'city', 'fuel', 'transmission', 'drive','country', 'body_type']).fit(X_train, y_train)\n",
        "X_train = enc.transform(X_train)\n",
        "X_test = enc.transform(X_test)\n",
        "\n",
        "X_train.head()"
      ]
    },
    {
      "cell_type": "markdown",
      "metadata": {
        "id": "JSW6E-o9lL4F"
      },
      "source": [
        "### Scaling Data\n",
        "\n",
        "Since we will be using a variety of algorithms that are sensitive to the scaling of data such as k-NN Regression, we will take this step to scale our data. We use sklearn's `StandardScaler`, and importantly only fit it on `X_train` and `y_train`, so as to not leak information about the test set."
      ]
    },
    {
      "cell_type": "code",
      "execution_count": null,
      "metadata": {
        "id": "lDZ9JfNMlL4F",
        "outputId": "ddd3b872-05c9-4379-840c-8c5b5743cc68"
      },
      "outputs": [
        {
          "data": {
            "text/html": [
              "<div>\n",
              "<style scoped>\n",
              "    .dataframe tbody tr th:only-of-type {\n",
              "        vertical-align: middle;\n",
              "    }\n",
              "\n",
              "    .dataframe tbody tr th {\n",
              "        vertical-align: top;\n",
              "    }\n",
              "\n",
              "    .dataframe thead th {\n",
              "        text-align: right;\n",
              "    }\n",
              "</style>\n",
              "<table border=\"1\" class=\"dataframe\">\n",
              "  <thead>\n",
              "    <tr style=\"text-align: right;\">\n",
              "      <th></th>\n",
              "      <th>year</th>\n",
              "      <th>make</th>\n",
              "      <th>model</th>\n",
              "      <th>city</th>\n",
              "      <th>mileage</th>\n",
              "      <th>fuel</th>\n",
              "      <th>transmission</th>\n",
              "      <th>engine</th>\n",
              "      <th>drive</th>\n",
              "      <th>lat</th>\n",
              "      <th>long</th>\n",
              "      <th>body_type</th>\n",
              "      <th>country</th>\n",
              "      <th>luxury</th>\n",
              "    </tr>\n",
              "  </thead>\n",
              "  <tbody>\n",
              "    <tr>\n",
              "      <th>163854</th>\n",
              "      <td>0.455361</td>\n",
              "      <td>-0.334114</td>\n",
              "      <td>-0.063577</td>\n",
              "      <td>0.067584</td>\n",
              "      <td>-0.404599</td>\n",
              "      <td>0.010101</td>\n",
              "      <td>0.371998</td>\n",
              "      <td>0.964252</td>\n",
              "      <td>0.694409</td>\n",
              "      <td>0.695273</td>\n",
              "      <td>0.012398</td>\n",
              "      <td>0.254161</td>\n",
              "      <td>-0.211222</td>\n",
              "      <td>-0.558493</td>\n",
              "    </tr>\n",
              "    <tr>\n",
              "      <th>22733</th>\n",
              "      <td>0.658182</td>\n",
              "      <td>0.113820</td>\n",
              "      <td>-0.807448</td>\n",
              "      <td>-0.431989</td>\n",
              "      <td>-0.700344</td>\n",
              "      <td>0.010101</td>\n",
              "      <td>0.371998</td>\n",
              "      <td>-0.017074</td>\n",
              "      <td>0.413451</td>\n",
              "      <td>0.259448</td>\n",
              "      <td>0.665436</td>\n",
              "      <td>0.276934</td>\n",
              "      <td>-0.267428</td>\n",
              "      <td>-0.558493</td>\n",
              "    </tr>\n",
              "    <tr>\n",
              "      <th>162652</th>\n",
              "      <td>0.455361</td>\n",
              "      <td>0.373977</td>\n",
              "      <td>-0.214645</td>\n",
              "      <td>0.550119</td>\n",
              "      <td>-0.605361</td>\n",
              "      <td>0.010101</td>\n",
              "      <td>0.371998</td>\n",
              "      <td>-0.771940</td>\n",
              "      <td>-1.688513</td>\n",
              "      <td>-0.379629</td>\n",
              "      <td>-2.194109</td>\n",
              "      <td>0.276934</td>\n",
              "      <td>-0.211222</td>\n",
              "      <td>-0.558493</td>\n",
              "    </tr>\n",
              "    <tr>\n",
              "      <th>135676</th>\n",
              "      <td>0.658182</td>\n",
              "      <td>0.673423</td>\n",
              "      <td>0.947247</td>\n",
              "      <td>1.615668</td>\n",
              "      <td>-0.550588</td>\n",
              "      <td>0.010101</td>\n",
              "      <td>0.371998</td>\n",
              "      <td>1.039739</td>\n",
              "      <td>0.694409</td>\n",
              "      <td>0.548755</td>\n",
              "      <td>-0.190981</td>\n",
              "      <td>0.493004</td>\n",
              "      <td>1.015917</td>\n",
              "      <td>1.790533</td>\n",
              "    </tr>\n",
              "    <tr>\n",
              "      <th>87454</th>\n",
              "      <td>0.861004</td>\n",
              "      <td>-0.334114</td>\n",
              "      <td>-0.443943</td>\n",
              "      <td>-0.163015</td>\n",
              "      <td>-0.911283</td>\n",
              "      <td>0.010101</td>\n",
              "      <td>0.371998</td>\n",
              "      <td>-0.771940</td>\n",
              "      <td>0.694409</td>\n",
              "      <td>0.420780</td>\n",
              "      <td>0.713628</td>\n",
              "      <td>0.276934</td>\n",
              "      <td>-0.267428</td>\n",
              "      <td>-0.558493</td>\n",
              "    </tr>\n",
              "  </tbody>\n",
              "</table>\n",
              "</div>"
            ],
            "text/plain": [
              "            year      make     model      city   mileage      fuel  \\\n",
              "163854  0.455361 -0.334114 -0.063577  0.067584 -0.404599  0.010101   \n",
              "22733   0.658182  0.113820 -0.807448 -0.431989 -0.700344  0.010101   \n",
              "162652  0.455361  0.373977 -0.214645  0.550119 -0.605361  0.010101   \n",
              "135676  0.658182  0.673423  0.947247  1.615668 -0.550588  0.010101   \n",
              "87454   0.861004 -0.334114 -0.443943 -0.163015 -0.911283  0.010101   \n",
              "\n",
              "        transmission    engine     drive       lat      long  body_type  \\\n",
              "163854      0.371998  0.964252  0.694409  0.695273  0.012398   0.254161   \n",
              "22733       0.371998 -0.017074  0.413451  0.259448  0.665436   0.276934   \n",
              "162652      0.371998 -0.771940 -1.688513 -0.379629 -2.194109   0.276934   \n",
              "135676      0.371998  1.039739  0.694409  0.548755 -0.190981   0.493004   \n",
              "87454       0.371998 -0.771940  0.694409  0.420780  0.713628   0.276934   \n",
              "\n",
              "         country    luxury  \n",
              "163854 -0.211222 -0.558493  \n",
              "22733  -0.267428 -0.558493  \n",
              "162652 -0.211222 -0.558493  \n",
              "135676  1.015917  1.790533  \n",
              "87454  -0.267428 -0.558493  "
            ]
          },
          "execution_count": 6,
          "metadata": {},
          "output_type": "execute_result"
        }
      ],
      "source": [
        "scaler = StandardScaler()\n",
        "\n",
        "X_train_num = X_train\n",
        "X_test_num = X_test\n",
        "\n",
        "scaler.fit(X_train_num)\n",
        "\n",
        "X_train.loc[:, scaler.feature_names_in_] = scaler.transform(X_train_num)\n",
        "X_test.loc[:, scaler.feature_names_in_] = scaler.transform(X_test_num)\n",
        "\n",
        "X_train.head()"
      ]
    },
    {
      "cell_type": "markdown",
      "metadata": {
        "id": "bAbhclYhlL4F"
      },
      "source": [
        "### Target Correlation \n",
        "\n",
        "Next we want to see how much the predictors correlate with the target feature. "
      ]
    },
    {
      "cell_type": "code",
      "execution_count": null,
      "metadata": {
        "id": "cbd4QrGBlL4H",
        "outputId": "62a61546-6496-490a-bcac-d531b25c93b9"
      },
      "outputs": [
        {
          "data": {
            "text/plain": [
              "year            0.360472\n",
              "make            0.686765\n",
              "model           0.789985\n",
              "city            0.434519\n",
              "mileage        -0.396879\n",
              "fuel            0.026944\n",
              "transmission    0.078931\n",
              "engine          0.251785\n",
              "drive           0.278422\n",
              "lat            -0.050983\n",
              "long            0.065436\n",
              "body_type       0.105425\n",
              "country         0.395763\n",
              "luxury          0.321570\n",
              "dtype: float64"
            ]
          },
          "execution_count": 7,
          "metadata": {},
          "output_type": "execute_result"
        }
      ],
      "source": [
        "X_train.corrwith(y_train)"
      ]
    },
    {
      "cell_type": "markdown",
      "metadata": {
        "id": "RK1-aR7SlL4H"
      },
      "source": [
        "We see that `lat`, `long`, `fuel`, and `transmission` have fairly low correlation so we consider the possibility of removing these features. We compare the performance of `LinearRegression` before and after the removal of these features."
      ]
    },
    {
      "cell_type": "code",
      "execution_count": null,
      "metadata": {
        "id": "Pt-gWLWelL4I",
        "outputId": "0875e495-437b-4937-fadc-4045a58cb290"
      },
      "outputs": [
        {
          "data": {
            "text/plain": [
              "0.7614806294526586"
            ]
          },
          "execution_count": 8,
          "metadata": {},
          "output_type": "execute_result"
        }
      ],
      "source": [
        "LinearRegression().fit(X_train, y_train).score(X_test, y_test)"
      ]
    },
    {
      "cell_type": "code",
      "execution_count": null,
      "metadata": {
        "id": "3bFWsILilL4I"
      },
      "outputs": [],
      "source": [
        "X_train_temp = X_train.drop(columns=[\"lat\", \"long\", \"fuel\", \"transmission\"])\n",
        "X_test_temp = X_test.drop(columns=[\"lat\", \"long\", \"fuel\", \"transmission\"])"
      ]
    },
    {
      "cell_type": "code",
      "execution_count": null,
      "metadata": {
        "id": "L6oqI8xglL4J",
        "outputId": "8a369860-2830-4167-fd23-74754dbceac7"
      },
      "outputs": [
        {
          "data": {
            "text/plain": [
              "0.7601117068223413"
            ]
          },
          "execution_count": 10,
          "metadata": {},
          "output_type": "execute_result"
        }
      ],
      "source": [
        "LinearRegression().fit(X_train_temp, y_train).score(X_test_temp, y_test)"
      ]
    },
    {
      "cell_type": "markdown",
      "metadata": {
        "id": "cTLs6PoElL4J"
      },
      "source": [
        "We see that there is a negligible difference, so decide to drop these features. In addition, dropping these features will improve the running time of our models."
      ]
    },
    {
      "cell_type": "code",
      "execution_count": null,
      "metadata": {
        "id": "oQQeB3hYlL4J"
      },
      "outputs": [],
      "source": [
        "X_train = X_train.drop(columns=[\"lat\", \"long\", \"fuel\", \"transmission\"])\n",
        "X_test = X_test.drop(columns=[\"lat\", \"long\", \"fuel\", \"transmission\"])"
      ]
    },
    {
      "cell_type": "markdown",
      "metadata": {
        "id": "NH9IIbzrlL4K"
      },
      "source": [
        "### Base Models\n",
        "\n",
        "For our base models, we chose to use Linear Regression, Decision Tree Regression, and Random Forest Regression. We use sklearn's `learning_curve` in order to see how the training set size impacts performance, and to see if we cannot get a well-fitting model with just a test train split."
      ]
    },
    {
      "cell_type": "code",
      "execution_count": null,
      "metadata": {
        "id": "JVvUdW30lL4K"
      },
      "outputs": [],
      "source": [
        "def learning_curve_plot(model, X, y):\n",
        "    train_sizes, train_scores, test_scores = learning_curve(\n",
        "        estimator=model,\n",
        "        X=X_train,\n",
        "        y=y_train,\n",
        "        cv=5,\n",
        "        scoring=\"r2\",\n",
        "        n_jobs = -1,\n",
        "        verbose=3\n",
        "    )\n",
        "\n",
        "    train_mean = train_scores.mean(axis=1)\n",
        "    test_mean = test_scores.mean(axis=1)\n",
        "\n",
        "    print(train_mean)\n",
        "    print(test_mean)\n",
        "\n",
        "    plt.subplots(figsize=(10,8))\n",
        "    plt.plot(train_sizes, train_mean, label=\"train\")\n",
        "    plt.plot(train_sizes, test_mean, label=\"validation\")\n",
        "\n",
        "    plt.title(\"Learning Curve\")\n",
        "    plt.xlabel(\"Training Set Size\")\n",
        "    plt.ylabel(\"R-Squared\")\n",
        "    plt.legend(loc=\"best\")\n",
        "\n",
        "    plt.show()"
      ]
    },
    {
      "cell_type": "code",
      "execution_count": null,
      "metadata": {
        "id": "lM3cLeRTlL4L",
        "outputId": "2606dd27-a236-4096-aa91-c360fa4651c5"
      },
      "outputs": [
        {
          "name": "stdout",
          "output_type": "stream",
          "text": [
            "[learning_curve] Training set sizes: [ 11175  36319  61463  86607 111752]\n"
          ]
        },
        {
          "name": "stderr",
          "output_type": "stream",
          "text": [
            "[Parallel(n_jobs=-1)]: Using backend LokyBackend with 4 concurrent workers.\n",
            "[Parallel(n_jobs=-1)]: Done   8 out of  25 | elapsed:    0.6s remaining:    1.3s\n",
            "[Parallel(n_jobs=-1)]: Done  17 out of  25 | elapsed:    1.1s remaining:    0.5s\n",
            "[Parallel(n_jobs=-1)]: Done  25 out of  25 | elapsed:    1.5s finished\n"
          ]
        },
        {
          "name": "stdout",
          "output_type": "stream",
          "text": [
            "[0.7317498  0.7364257  0.7547683  0.75023667 0.75156812]\n",
            "[0.75034568 0.75210289 0.75210121 0.75218012 0.75227548]\n"
          ]
        },
        {
          "data": {
            "image/png": "[encoded data removed]",
            "text/plain": [
              "<Figure size 1000x800 with 1 Axes>"
            ]
          },
          "metadata": {},
          "output_type": "display_data"
        }
      ],
      "source": [
        "learning_curve_plot(LinearRegression(), X_train, y_train)"
      ]
    },
    {
      "cell_type": "code",
      "execution_count": null,
      "metadata": {
        "id": "cXQJNux_lL4L",
        "outputId": "fd785af4-ff05-4038-a764-4e1d9a729e14"
      },
      "outputs": [
        {
          "name": "stdout",
          "output_type": "stream",
          "text": [
            "[learning_curve] Training set sizes: [ 11175  36319  61463  86607 111752]\n"
          ]
        },
        {
          "name": "stderr",
          "output_type": "stream",
          "text": [
            "[Parallel(n_jobs=-1)]: Using backend LokyBackend with 4 concurrent workers.\n",
            "[Parallel(n_jobs=-1)]: Done   8 out of  25 | elapsed:    2.4s remaining:    5.2s\n",
            "[Parallel(n_jobs=-1)]: Done  17 out of  25 | elapsed:    5.1s remaining:    2.4s\n",
            "[Parallel(n_jobs=-1)]: Done  25 out of  25 | elapsed:    7.5s finished\n"
          ]
        },
        {
          "name": "stdout",
          "output_type": "stream",
          "text": [
            "[0.99942572 0.99880734 0.99856696 0.99834467 0.99813826]\n",
            "[0.77354364 0.82104273 0.87347287 0.87961317 0.8963888 ]\n"
          ]
        },
        {
          "data": {
            "image/png": "[encoded data removed]",
            "text/plain": [
              "<Figure size 1000x800 with 1 Axes>"
            ]
          },
          "metadata": {},
          "output_type": "display_data"
        }
      ],
      "source": [
        "learning_curve_plot(DecisionTreeRegressor(max_depth=100), X_train, y_train)"
      ]
    },
    {
      "cell_type": "code",
      "execution_count": null,
      "metadata": {
        "id": "PJGVKixGlL4L",
        "outputId": "21ab0c76-16f9-41db-f247-26465421347c"
      },
      "outputs": [
        {
          "name": "stdout",
          "output_type": "stream",
          "text": [
            "[learning_curve] Training set sizes: [ 11175  36319  61463  86607 111752]\n"
          ]
        },
        {
          "name": "stderr",
          "output_type": "stream",
          "text": [
            "[Parallel(n_jobs=-1)]: Using backend LokyBackend with 4 concurrent workers.\n",
            "[Parallel(n_jobs=-1)]: Done   8 out of  25 | elapsed:  5.0min remaining: 10.6min\n",
            "[Parallel(n_jobs=-1)]: Done  17 out of  25 | elapsed: 10.1min remaining:  4.8min\n",
            "[Parallel(n_jobs=-1)]: Done  25 out of  25 | elapsed: 14.8min finished\n"
          ]
        },
        {
          "name": "stdout",
          "output_type": "stream",
          "text": [
            "[0.97638265 0.9835804  0.98735223 0.98641676 0.98726182]\n",
            "[0.86765202 0.89323145 0.92056042 0.92445802 0.92840175]\n"
          ]
        },
        {
          "data": {
            "image/png": "[encoded data removed]",
            "text/plain": [
              "<Figure size 1000x800 with 1 Axes>"
            ]
          },
          "metadata": {},
          "output_type": "display_data"
        }
      ],
      "source": [
        "learning_curve_plot(RandomForestRegressor(max_depth=25, n_estimators=50), X_train, y_train)"
      ]
    },
    {
      "cell_type": "markdown",
      "metadata": {
        "id": "1tsCkIU5lL4L"
      },
      "source": [
        "`LinearRegression` seems to reach a point of well-fitting, but overall has a low $R^2$ score. `DecisionTreeRegressor` and `RandomForestRegressor` seem to underfitting as performance improves as training set size increases but never reaches a point of well- or over-fitting. Thus we conclude that it will be necessary to use K-Fold Cross Validation, in order to make the most use of our data."
      ]
    },
    {
      "cell_type": "markdown",
      "metadata": {
        "id": "EPryvaE4lL4M"
      },
      "source": [
        "We now try 3x3 Cross Validation for our base models as well as a number of other regression models:\n",
        "- k-Nearest Neighbors Regression\n",
        "- AdaBoost Regression\n",
        "- Gradient Boosting Regression\n",
        "- Bagging Regression\n",
        "- Multilayer Perceptron Regression\n",
        "- Stochastic Gradient Descent Regression\n",
        "\n",
        "Parameters were set so the modelling would run in a reasonable amount of time. "
      ]
    },
    {
      "cell_type": "code",
      "execution_count": null,
      "metadata": {
        "id": "jpQw4eDolL4M",
        "outputId": "0095aead-5383-489d-ed62-a6d148813aef"
      },
      "outputs": [
        {
          "name": "stdout",
          "output_type": "stream",
          "text": [
            "LR \tR-Squared: 0.751520 (0.022170), \t Negative MSE: -189034083.938556 (22379934.764153)\n",
            "DTR \tR-Squared: 0.879445 (0.013843), \t Negative MSE: -91803297.780072 (13418147.284190)\n",
            "RFR \tR-Squared: 0.920409 (0.017976), \t Negative MSE: -60783192.472800 (15220521.284938)\n",
            "KNNR \tR-Squared: 0.869746 (0.026481), \t Negative MSE: -99491562.967231 (23019272.551929)\n",
            "ABR \tR-Squared: 0.898263 (0.016418), \t Negative MSE: -77498149.312298 (14243782.640648)\n",
            "GBR \tR-Squared: 0.850194 (0.014847), \t Negative MSE: -114061301.624217 (15088477.022752)\n",
            "BR \tR-Squared: 0.919627 (0.017941), \t Negative MSE: -61324403.255288 (14970601.989971)\n",
            "NNR \tR-Squared: 0.855482 (0.026768), \t Negative MSE: -110145723.323807 (22739397.592807)\n",
            "SGDR \tR-Squared: 0.746300 (0.022329), \t Negative MSE: -192881939.735160 (21538622.968144)\n"
          ]
        }
      ],
      "source": [
        "models = []\n",
        "\n",
        "models.append(('LR', LinearRegression()))\n",
        "models.append(('DTR', DecisionTreeRegressor(max_depth = 100)))\n",
        "models.append(('RFR', RandomForestRegressor(max_depth = 25, n_estimators = 50, n_jobs=-1)))\n",
        "models.append(('KNNR', KNeighborsRegressor(n_neighbors = 3, n_jobs=-1)))\n",
        "models.append(('ABR', AdaBoostRegressor(base_estimator=DecisionTreeRegressor(max_depth=10), n_estimators=50)))\n",
        "models.append(('GBR', GradientBoostingRegressor(n_estimators=50)))\n",
        "models.append(('BR', BaggingRegressor(n_estimators=50, n_jobs=-1)))\n",
        "models.append(('NNR', MLPRegressor(learning_rate_init=0.1)))\n",
        "models.append(('SGDR', SGDRegressor()))\n",
        "\n",
        "\n",
        "r2_results = []\n",
        "mse_results = []\n",
        "names = []\n",
        "rkfold = RepeatedKFold(n_splits=3, n_repeats=3, random_state=42)\n",
        "\n",
        "for name, model in models:\n",
        "    cv_results = cross_validate(model, X_train, y_train, cv=rkfold, scoring=('r2', \"neg_mean_squared_error\"), n_jobs = -1)\n",
        "    r2_results.append(cv_results['test_r2'])\n",
        "    mse_results.append(cv_results['test_neg_mean_squared_error'])\n",
        "    names.append(name)\n",
        "    print(\"%s \\tR-Squared: %f (%f), \\t Negative MSE: %f (%f)\" % (name, cv_results['test_r2'].mean(), cv_results['test_r2'].std(), cv_results['test_neg_mean_squared_error'].mean(), cv_results['test_neg_mean_squared_error'].std()))"
      ]
    },
    {
      "cell_type": "code",
      "execution_count": null,
      "metadata": {
        "id": "xe3Y8O-MlL4M",
        "outputId": "69a930f0-0746-4210-cb32-efe2a3e83155"
      },
      "outputs": [
        {
          "data": {
            "image/png": "[encoded data removed]",
            "text/plain": [
              "<Figure size 1500x600 with 2 Axes>"
            ]
          },
          "metadata": {},
          "output_type": "display_data"
        }
      ],
      "source": [
        "fig = plt.figure(figsize=(15,6))\n",
        "fig.suptitle('Comparison of Regression Algorithms Using 3x3 Cross Validation')\n",
        "ax1 = fig.add_subplot(121)\n",
        "ax2 = fig.add_subplot(122)\n",
        "ax1.boxplot(r2_results)\n",
        "ax2.boxplot(mse_results)\n",
        "ax1.set_xticklabels(names)\n",
        "ax1.set_xlabel(\"Regression Algorithm\")\n",
        "ax1.set_ylabel(\"R-squared\")\n",
        "ax2.set_xticklabels(names)\n",
        "ax2.set_xlabel(\"Regression Algorithm\")\n",
        "ax2.set_ylabel(\"Negative MSE\")\n",
        "ax1.set_ylim(top=1)\n",
        "ax2.set_ylim(top=0)\n",
        "plt.show()"
      ]
    },
    {
      "cell_type": "markdown",
      "metadata": {
        "id": "t24NSBWXlL4N"
      },
      "source": [
        "This results identify `RandomForestRegressor` and `BaggingRegressor` as our best options. Next we consider using a randomized hyperparameter search using `RandomziedSearchCV`, with 15 iterations and using Negative MSE for scoring, in order to find the optimal hyperparameters. First we perform the randomized hyperparameter search on `RandomForestRegressor`."
      ]
    },
    {
      "cell_type": "code",
      "execution_count": null,
      "metadata": {
        "id": "3OzyRGlDlL4N"
      },
      "outputs": [],
      "source": [
        "params = {\n",
        "    \"n_estimators\" : randint(10,200),\n",
        "    \"max_depth\" : randint(10,200),\n",
        "    \"min_samples_split\" : randint(1,50),\n",
        "    \"min_samples_leaf\" : randint(1,50),\n",
        "}\n",
        "\n",
        "rfr_rs = RandomizedSearchCV(RandomForestRegressor(random_state=42, verbose=1), n_iter=10, param_distributions = params, n_jobs = -1, cv=3, scoring = \"neg_mean_squared_error\", verbose= 1)"
      ]
    },
    {
      "cell_type": "code",
      "execution_count": null,
      "metadata": {
        "id": "rHyM_qeJlL4O",
        "outputId": "f02b2bfc-c53a-4a20-ce3b-2f921fc2f6ae"
      },
      "outputs": [
        {
          "name": "stdout",
          "output_type": "stream",
          "text": [
            "Fitting 3 folds for each of 10 candidates, totalling 30 fits\n"
          ]
        },
        {
          "name": "stderr",
          "output_type": "stream",
          "text": [
            "[Parallel(n_jobs=1)]: Using backend SequentialBackend with 1 concurrent workers.\n",
            "[Parallel(n_jobs=1)]: Done  53 out of  53 | elapsed:   39.4s finished\n"
          ]
        },
        {
          "data": {
            "text/html": [
              "<style>#sk-container-id-1 {color: black;background-color: white;}#sk-container-id-1 pre{padding: 0;}#sk-container-id-1 div.sk-toggleable {background-color: white;}#sk-container-id-1 label.sk-toggleable__label {cursor: pointer;display: block;width: 100%;margin-bottom: 0;padding: 0.3em;box-sizing: border-box;text-align: center;}#sk-container-id-1 label.sk-toggleable__label-arrow:before {content: \"▸\";float: left;margin-right: 0.25em;color: #696969;}#sk-container-id-1 label.sk-toggleable__label-arrow:hover:before {color: black;}#sk-container-id-1 div.sk-estimator:hover label.sk-toggleable__label-arrow:before {color: black;}#sk-container-id-1 div.sk-toggleable__content {max-height: 0;max-width: 0;overflow: hidden;text-align: left;background-color: #f0f8ff;}#sk-container-id-1 div.sk-toggleable__content pre {margin: 0.2em;color: black;border-radius: 0.25em;background-color: #f0f8ff;}#sk-container-id-1 input.sk-toggleable__control:checked~div.sk-toggleable__content {max-height: 200px;max-width: 100%;overflow: auto;}#sk-container-id-1 input.sk-toggleable__control:checked~label.sk-toggleable__label-arrow:before {content: \"▾\";}#sk-container-id-1 div.sk-estimator input.sk-toggleable__control:checked~label.sk-toggleable__label {background-color: #d4ebff;}#sk-container-id-1 div.sk-label input.sk-toggleable__control:checked~label.sk-toggleable__label {background-color: #d4ebff;}#sk-container-id-1 input.sk-hidden--visually {border: 0;clip: rect(1px 1px 1px 1px);clip: rect(1px, 1px, 1px, 1px);height: 1px;margin: -1px;overflow: hidden;padding: 0;position: absolute;width: 1px;}#sk-container-id-1 div.sk-estimator {font-family: monospace;background-color: #f0f8ff;border: 1px dotted black;border-radius: 0.25em;box-sizing: border-box;margin-bottom: 0.5em;}#sk-container-id-1 div.sk-estimator:hover {background-color: #d4ebff;}#sk-container-id-1 div.sk-parallel-item::after {content: \"\";width: 100%;border-bottom: 1px solid gray;flex-grow: 1;}#sk-container-id-1 div.sk-label:hover label.sk-toggleable__label {background-color: #d4ebff;}#sk-container-id-1 div.sk-serial::before {content: \"\";position: absolute;border-left: 1px solid gray;box-sizing: border-box;top: 0;bottom: 0;left: 50%;z-index: 0;}#sk-container-id-1 div.sk-serial {display: flex;flex-direction: column;align-items: center;background-color: white;padding-right: 0.2em;padding-left: 0.2em;position: relative;}#sk-container-id-1 div.sk-item {position: relative;z-index: 1;}#sk-container-id-1 div.sk-parallel {display: flex;align-items: stretch;justify-content: center;background-color: white;position: relative;}#sk-container-id-1 div.sk-item::before, #sk-container-id-1 div.sk-parallel-item::before {content: \"\";position: absolute;border-left: 1px solid gray;box-sizing: border-box;top: 0;bottom: 0;left: 50%;z-index: -1;}#sk-container-id-1 div.sk-parallel-item {display: flex;flex-direction: column;z-index: 1;position: relative;background-color: white;}#sk-container-id-1 div.sk-parallel-item:first-child::after {align-self: flex-end;width: 50%;}#sk-container-id-1 div.sk-parallel-item:last-child::after {align-self: flex-start;width: 50%;}#sk-container-id-1 div.sk-parallel-item:only-child::after {width: 0;}#sk-container-id-1 div.sk-dashed-wrapped {border: 1px dashed gray;margin: 0 0.4em 0.5em 0.4em;box-sizing: border-box;padding-bottom: 0.4em;background-color: white;}#sk-container-id-1 div.sk-label label {font-family: monospace;font-weight: bold;display: inline-block;line-height: 1.2em;}#sk-container-id-1 div.sk-label-container {text-align: center;}#sk-container-id-1 div.sk-container {/* jupyter's `normalize.less` sets `[hidden] { display: none; }` but bootstrap.min.css set `[hidden] { display: none !important; }` so we also need the `!important` here to be able to override the default hidden behavior on the sphinx rendered scikit-learn.org. See: https://github.com/scikit-learn/scikit-learn/issues/21755 */display: inline-block !important;position: relative;}#sk-container-id-1 div.sk-text-repr-fallback {display: none;}</style><div id=\"sk-container-id-1\" class=\"sk-top-container\"><div class=\"sk-text-repr-fallback\"><pre>RandomizedSearchCV(cv=3,\n",
              "                   estimator=RandomForestRegressor(random_state=42, verbose=1),\n",
              "                   n_jobs=-1,\n",
              "                   param_distributions={&#x27;max_depth&#x27;: &lt;scipy.stats._distn_infrastructure.rv_discrete_frozen object at 0x0000022EA8077C40&gt;,\n",
              "                                        &#x27;min_samples_leaf&#x27;: &lt;scipy.stats._distn_infrastructure.rv_discrete_frozen object at 0x0000022EA8077040&gt;,\n",
              "                                        &#x27;min_samples_split&#x27;: &lt;scipy.stats._distn_infrastructure.rv_discrete_frozen object at 0x0000022EA80742B0&gt;,\n",
              "                                        &#x27;n_estimators&#x27;: &lt;scipy.stats._distn_infrastructure.rv_discrete_frozen object at 0x0000022EA2E73F10&gt;},\n",
              "                   scoring=&#x27;neg_mean_squared_error&#x27;, verbose=1)</pre><b>In a Jupyter environment, please rerun this cell to show the HTML representation or trust the notebook. <br />On GitHub, the HTML representation is unable to render, please try loading this page with nbviewer.org.</b></div><div class=\"sk-container\" hidden><div class=\"sk-item sk-dashed-wrapped\"><div class=\"sk-label-container\"><div class=\"sk-label sk-toggleable\"><input class=\"sk-toggleable__control sk-hidden--visually\" id=\"sk-estimator-id-1\" type=\"checkbox\" ><label for=\"sk-estimator-id-1\" class=\"sk-toggleable__label sk-toggleable__label-arrow\">RandomizedSearchCV</label><div class=\"sk-toggleable__content\"><pre>RandomizedSearchCV(cv=3,\n",
              "                   estimator=RandomForestRegressor(random_state=42, verbose=1),\n",
              "                   n_jobs=-1,\n",
              "                   param_distributions={&#x27;max_depth&#x27;: &lt;scipy.stats._distn_infrastructure.rv_discrete_frozen object at 0x0000022EA8077C40&gt;,\n",
              "                                        &#x27;min_samples_leaf&#x27;: &lt;scipy.stats._distn_infrastructure.rv_discrete_frozen object at 0x0000022EA8077040&gt;,\n",
              "                                        &#x27;min_samples_split&#x27;: &lt;scipy.stats._distn_infrastructure.rv_discrete_frozen object at 0x0000022EA80742B0&gt;,\n",
              "                                        &#x27;n_estimators&#x27;: &lt;scipy.stats._distn_infrastructure.rv_discrete_frozen object at 0x0000022EA2E73F10&gt;},\n",
              "                   scoring=&#x27;neg_mean_squared_error&#x27;, verbose=1)</pre></div></div></div><div class=\"sk-parallel\"><div class=\"sk-parallel-item\"><div class=\"sk-item\"><div class=\"sk-label-container\"><div class=\"sk-label sk-toggleable\"><input class=\"sk-toggleable__control sk-hidden--visually\" id=\"sk-estimator-id-2\" type=\"checkbox\" ><label for=\"sk-estimator-id-2\" class=\"sk-toggleable__label sk-toggleable__label-arrow\">estimator: RandomForestRegressor</label><div class=\"sk-toggleable__content\"><pre>RandomForestRegressor(random_state=42, verbose=1)</pre></div></div></div><div class=\"sk-serial\"><div class=\"sk-item\"><div class=\"sk-estimator sk-toggleable\"><input class=\"sk-toggleable__control sk-hidden--visually\" id=\"sk-estimator-id-3\" type=\"checkbox\" ><label for=\"sk-estimator-id-3\" class=\"sk-toggleable__label sk-toggleable__label-arrow\">RandomForestRegressor</label><div class=\"sk-toggleable__content\"><pre>RandomForestRegressor(random_state=42, verbose=1)</pre></div></div></div></div></div></div></div></div></div></div>"
            ],
            "text/plain": [
              "RandomizedSearchCV(cv=3,\n",
              "                   estimator=RandomForestRegressor(random_state=42, verbose=1),\n",
              "                   n_jobs=-1,\n",
              "                   param_distributions={'max_depth': <scipy.stats._distn_infrastructure.rv_discrete_frozen object at 0x0000022EA8077C40>,\n",
              "                                        'min_samples_leaf': <scipy.stats._distn_infrastructure.rv_discrete_frozen object at 0x0000022EA8077040>,\n",
              "                                        'min_samples_split': <scipy.stats._distn_infrastructure.rv_discrete_frozen object at 0x0000022EA80742B0>,\n",
              "                                        'n_estimators': <scipy.stats._distn_infrastructure.rv_discrete_frozen object at 0x0000022EA2E73F10>},\n",
              "                   scoring='neg_mean_squared_error', verbose=1)"
            ]
          },
          "execution_count": 13,
          "metadata": {},
          "output_type": "execute_result"
        }
      ],
      "source": [
        "rfr_rs.fit(X_train, y_train)"
      ]
    },
    {
      "cell_type": "code",
      "execution_count": null,
      "metadata": {
        "id": "rAR1pQ3BlL4O",
        "outputId": "df7cd3d2-8de7-4647-c428-ace30cd73d17"
      },
      "outputs": [
        {
          "name": "stdout",
          "output_type": "stream",
          "text": [
            "{'max_depth': 121, 'min_samples_leaf': 2, 'min_samples_split': 3, 'n_estimators': 53}\n",
            "-60635848.99876674\n"
          ]
        }
      ],
      "source": [
        "print(rfr_rs.best_params_)\n",
        "print(rfr_rs.best_score_)\n",
        "best_rfr = rfr_rs.best_estimator_"
      ]
    },
    {
      "cell_type": "code",
      "execution_count": null,
      "metadata": {
        "id": "o2meiTtglL4O",
        "outputId": "23672f35-164f-4d6f-d2a8-c63cc1a3ae12"
      },
      "outputs": [
        {
          "name": "stderr",
          "output_type": "stream",
          "text": [
            "[Parallel(n_jobs=1)]: Using backend SequentialBackend with 1 concurrent workers.\n",
            "[Parallel(n_jobs=1)]: Done  53 out of  53 | elapsed:    0.8s finished\n"
          ]
        },
        {
          "data": {
            "text/plain": [
              "0.9286339610761772"
            ]
          },
          "execution_count": 16,
          "metadata": {},
          "output_type": "execute_result"
        }
      ],
      "source": [
        "best_rfr.score(X_test, y_test)"
      ]
    },
    {
      "cell_type": "markdown",
      "metadata": {
        "id": "dttUfm1IlL4O"
      },
      "source": [
        "There was a slight improvement  the previous score for `RandomForestRegressor`. Now we perform the randomized hyperparameter search on `BaggingRegressor`."
      ]
    },
    {
      "cell_type": "code",
      "execution_count": null,
      "metadata": {
        "id": "S2Dz_ifmlL4O"
      },
      "outputs": [],
      "source": [
        "params={\n",
        "        \"n_estimators\" : randint(10,100),\n",
        "}\n",
        "\n",
        "br_gc = RandomizedSearchCV(\n",
        "    BaggingRegressor(n_jobs = -1, random_state = 42),\n",
        "    param_distributions=params,\n",
        "    n_iter=10,\n",
        "    scoring='neg_mean_squared_error', \n",
        "    n_jobs = -1,\n",
        "    cv=3,\n",
        "    verbose=1)"
      ]
    },
    {
      "cell_type": "code",
      "execution_count": null,
      "metadata": {
        "id": "_p6W-kmXlL4P",
        "outputId": "cf2240a6-805c-4db5-a9fe-6b8d57f09a64"
      },
      "outputs": [
        {
          "name": "stdout",
          "output_type": "stream",
          "text": [
            "Fitting 3 folds for each of 10 candidates, totalling 30 fits\n"
          ]
        },
        {
          "data": {
            "text/html": [
              "<style>#sk-container-id-1 {color: black;background-color: white;}#sk-container-id-1 pre{padding: 0;}#sk-container-id-1 div.sk-toggleable {background-color: white;}#sk-container-id-1 label.sk-toggleable__label {cursor: pointer;display: block;width: 100%;margin-bottom: 0;padding: 0.3em;box-sizing: border-box;text-align: center;}#sk-container-id-1 label.sk-toggleable__label-arrow:before {content: \"▸\";float: left;margin-right: 0.25em;color: #696969;}#sk-container-id-1 label.sk-toggleable__label-arrow:hover:before {color: black;}#sk-container-id-1 div.sk-estimator:hover label.sk-toggleable__label-arrow:before {color: black;}#sk-container-id-1 div.sk-toggleable__content {max-height: 0;max-width: 0;overflow: hidden;text-align: left;background-color: #f0f8ff;}#sk-container-id-1 div.sk-toggleable__content pre {margin: 0.2em;color: black;border-radius: 0.25em;background-color: #f0f8ff;}#sk-container-id-1 input.sk-toggleable__control:checked~div.sk-toggleable__content {max-height: 200px;max-width: 100%;overflow: auto;}#sk-container-id-1 input.sk-toggleable__control:checked~label.sk-toggleable__label-arrow:before {content: \"▾\";}#sk-container-id-1 div.sk-estimator input.sk-toggleable__control:checked~label.sk-toggleable__label {background-color: #d4ebff;}#sk-container-id-1 div.sk-label input.sk-toggleable__control:checked~label.sk-toggleable__label {background-color: #d4ebff;}#sk-container-id-1 input.sk-hidden--visually {border: 0;clip: rect(1px 1px 1px 1px);clip: rect(1px, 1px, 1px, 1px);height: 1px;margin: -1px;overflow: hidden;padding: 0;position: absolute;width: 1px;}#sk-container-id-1 div.sk-estimator {font-family: monospace;background-color: #f0f8ff;border: 1px dotted black;border-radius: 0.25em;box-sizing: border-box;margin-bottom: 0.5em;}#sk-container-id-1 div.sk-estimator:hover {background-color: #d4ebff;}#sk-container-id-1 div.sk-parallel-item::after {content: \"\";width: 100%;border-bottom: 1px solid gray;flex-grow: 1;}#sk-container-id-1 div.sk-label:hover label.sk-toggleable__label {background-color: #d4ebff;}#sk-container-id-1 div.sk-serial::before {content: \"\";position: absolute;border-left: 1px solid gray;box-sizing: border-box;top: 0;bottom: 0;left: 50%;z-index: 0;}#sk-container-id-1 div.sk-serial {display: flex;flex-direction: column;align-items: center;background-color: white;padding-right: 0.2em;padding-left: 0.2em;position: relative;}#sk-container-id-1 div.sk-item {position: relative;z-index: 1;}#sk-container-id-1 div.sk-parallel {display: flex;align-items: stretch;justify-content: center;background-color: white;position: relative;}#sk-container-id-1 div.sk-item::before, #sk-container-id-1 div.sk-parallel-item::before {content: \"\";position: absolute;border-left: 1px solid gray;box-sizing: border-box;top: 0;bottom: 0;left: 50%;z-index: -1;}#sk-container-id-1 div.sk-parallel-item {display: flex;flex-direction: column;z-index: 1;position: relative;background-color: white;}#sk-container-id-1 div.sk-parallel-item:first-child::after {align-self: flex-end;width: 50%;}#sk-container-id-1 div.sk-parallel-item:last-child::after {align-self: flex-start;width: 50%;}#sk-container-id-1 div.sk-parallel-item:only-child::after {width: 0;}#sk-container-id-1 div.sk-dashed-wrapped {border: 1px dashed gray;margin: 0 0.4em 0.5em 0.4em;box-sizing: border-box;padding-bottom: 0.4em;background-color: white;}#sk-container-id-1 div.sk-label label {font-family: monospace;font-weight: bold;display: inline-block;line-height: 1.2em;}#sk-container-id-1 div.sk-label-container {text-align: center;}#sk-container-id-1 div.sk-container {/* jupyter's `normalize.less` sets `[hidden] { display: none; }` but bootstrap.min.css set `[hidden] { display: none !important; }` so we also need the `!important` here to be able to override the default hidden behavior on the sphinx rendered scikit-learn.org. See: https://github.com/scikit-learn/scikit-learn/issues/21755 */display: inline-block !important;position: relative;}#sk-container-id-1 div.sk-text-repr-fallback {display: none;}</style><div id=\"sk-container-id-1\" class=\"sk-top-container\"><div class=\"sk-text-repr-fallback\"><pre>RandomizedSearchCV(cv=3, estimator=BaggingRegressor(n_jobs=-1, random_state=42),\n",
              "                   n_jobs=-1,\n",
              "                   param_distributions={&#x27;n_estimators&#x27;: &lt;scipy.stats._distn_infrastructure.rv_discrete_frozen object at 0x00000232C6A2E7D0&gt;},\n",
              "                   scoring=&#x27;neg_mean_squared_error&#x27;, verbose=1)</pre><b>In a Jupyter environment, please rerun this cell to show the HTML representation or trust the notebook. <br />On GitHub, the HTML representation is unable to render, please try loading this page with nbviewer.org.</b></div><div class=\"sk-container\" hidden><div class=\"sk-item sk-dashed-wrapped\"><div class=\"sk-label-container\"><div class=\"sk-label sk-toggleable\"><input class=\"sk-toggleable__control sk-hidden--visually\" id=\"sk-estimator-id-1\" type=\"checkbox\" ><label for=\"sk-estimator-id-1\" class=\"sk-toggleable__label sk-toggleable__label-arrow\">RandomizedSearchCV</label><div class=\"sk-toggleable__content\"><pre>RandomizedSearchCV(cv=3, estimator=BaggingRegressor(n_jobs=-1, random_state=42),\n",
              "                   n_jobs=-1,\n",
              "                   param_distributions={&#x27;n_estimators&#x27;: &lt;scipy.stats._distn_infrastructure.rv_discrete_frozen object at 0x00000232C6A2E7D0&gt;},\n",
              "                   scoring=&#x27;neg_mean_squared_error&#x27;, verbose=1)</pre></div></div></div><div class=\"sk-parallel\"><div class=\"sk-parallel-item\"><div class=\"sk-item\"><div class=\"sk-label-container\"><div class=\"sk-label sk-toggleable\"><input class=\"sk-toggleable__control sk-hidden--visually\" id=\"sk-estimator-id-2\" type=\"checkbox\" ><label for=\"sk-estimator-id-2\" class=\"sk-toggleable__label sk-toggleable__label-arrow\">estimator: BaggingRegressor</label><div class=\"sk-toggleable__content\"><pre>BaggingRegressor(n_jobs=-1, random_state=42)</pre></div></div></div><div class=\"sk-serial\"><div class=\"sk-item\"><div class=\"sk-estimator sk-toggleable\"><input class=\"sk-toggleable__control sk-hidden--visually\" id=\"sk-estimator-id-3\" type=\"checkbox\" ><label for=\"sk-estimator-id-3\" class=\"sk-toggleable__label sk-toggleable__label-arrow\">BaggingRegressor</label><div class=\"sk-toggleable__content\"><pre>BaggingRegressor(n_jobs=-1, random_state=42)</pre></div></div></div></div></div></div></div></div></div></div>"
            ],
            "text/plain": [
              "RandomizedSearchCV(cv=3, estimator=BaggingRegressor(n_jobs=-1, random_state=42),\n",
              "                   n_jobs=-1,\n",
              "                   param_distributions={'n_estimators': <scipy.stats._distn_infrastructure.rv_discrete_frozen object at 0x00000232C6A2E7D0>},\n",
              "                   scoring='neg_mean_squared_error', verbose=1)"
            ]
          },
          "execution_count": 13,
          "metadata": {},
          "output_type": "execute_result"
        }
      ],
      "source": [
        "br_gc.fit(X_train, y_train)"
      ]
    },
    {
      "cell_type": "code",
      "execution_count": null,
      "metadata": {
        "id": "OLno1AuGlL4Q",
        "outputId": "922c3c2e-dd6b-4c91-d1f9-7f0ea934ac4f"
      },
      "outputs": [
        {
          "name": "stdout",
          "output_type": "stream",
          "text": [
            "{'n_estimators': 75}\n",
            "-57993641.06811938\n"
          ]
        }
      ],
      "source": [
        "print(br_gc.best_params_)\n",
        "print(br_gc.best_score_)\n",
        "best_br = br_gc.best_estimator_"
      ]
    },
    {
      "cell_type": "code",
      "execution_count": null,
      "metadata": {
        "id": "-vmL9vjZlL4Q",
        "outputId": "2ee9135c-eaea-4bb2-a508-e11554c14c0b"
      },
      "outputs": [
        {
          "data": {
            "text/plain": [
              "0.9310382149595278"
            ]
          },
          "execution_count": 15,
          "metadata": {},
          "output_type": "execute_result"
        }
      ],
      "source": [
        "best_br.score(X_test, y_test)"
      ]
    },
    {
      "cell_type": "markdown",
      "metadata": {
        "id": "Jg7unuvzlL4R"
      },
      "source": [
        "This is a good improvement over the previous score for `BaggingRegressor`. \n",
        "You can find the rest of the notebook here: https://github.com/COGS118A/Group002-Wi23/blob/main/report.ipynb"
      ]
    },
    {
      "cell_type": "markdown",
      "metadata": {
        "id": "jCNTGDjYrHpA"
      },
      "source": [
        "# Discussion\n",
        "\n",
        "### Interpreting the result\n",
        "---------------\n",
        "Overall, we found that the two regressors that gave us the highest $R^2$ scores were BaggingRegressor and RandomForestRegressor. The BaggingRegressor returned a score of approximately 0.9196 and the RandomForestRegressor returned a score of about 0.9204 before some hyperparameter adjustments. Both of these scores were significantly higher than the model that performed third-best (AdaBoostRegressor, with an $R^2$ score of approximately 0.8983) before the same hyperparameter adjustments, indicating that they had the best performance on the testing set of cars.\n",
        "\n",
        "We then took those two well-performing regressors and made some hyperparameter adjustments in our models involving them to maximize our resultant $R^2$ score. We performed a randomized hyperparameter search on both of the regressors. Fro the RandomForestRegressor, the optimal value for each of the hyperparameters were 121 for max_depth, 2 for min_samples_leaf, 3 for min_samples_split, and 53 for n_estimators, and our resultant $R^2$ score was 0.9286. For BaggingRegressor, the optimal value for our hyperparameter was 75 for n_estimators, and we achieved an $R^2$ score of 0.9310.\n",
        "\n",
        "Given that our $R^2$ scores were high, we believe that our model is fairly accurate at predicting the market-value of used cars. The highest $R^2$ value we got, 0.9310 (for BaggingRegressor), indicates that the 93.1% of the variation in the market-value of a used car can be explained by our model using BaggingRegressor with its optimal hyperparameter value (75 for the n_estimators hyperparameter). \n",
        "\n",
        "Despite calculating the value of the Mean-Squared Error or the Mean Absolute Error for each of our regressors, we did not use them to evaluate our performance, as detailed below.\n",
        "\n",
        "### Limitations\n",
        "\n",
        "We seem to be running into a problem in which we are getting large negative MSE and MAE values for both the training dataset and testing dataset despite the high $R^2$ score. For example, the value of the MSE for BaggingRegressor was -61324403.26, which is rather large. Similar high values for the MSE and MAE are common across all the other models, too, suggesting that there might be an issue with the data itself. The data has been cleaned properly and has minimal outliers, so we are unsure where we might be going wrong. We also tried tuning the hyperparameters but that did not lead to much change. \n",
        "\n",
        "A limitation to the validity of our study is inflation of money over time - as time passes, inflation (in either direction) may occur, driving the prices of same-quality used cars up and down. A potential way to overcome this limitation is to only use the data of cars from one year and run the regressors on them, and do the same for car data from other years (analyze each year individually so the regressor doesn't get confused as market prices vary over time).\n",
        "\n",
        "### Ethics & Privacy\n",
        "----------------------------\n",
        "\n",
        "One ethical concern is that of privacy. For example, if a car in the dataset has obvious collision or dent marks, then it could bring in a variable of the driving history of the seller, which could raise privacy concerns. Furthermore, the algorithm may also unintentionally raise or lower the prices of certain types of cars, which could have a slight effect on the vehicle industry economy overall. Lastly is the issue of transparency - if the audience of this algorithm does not fully understand how it works or arrives to a price, they may be inclined to not believe it and sell their car for whatever price they want to sell it for.\n",
        "\n",
        "### Conclusion\n",
        "\n",
        "-----------------\n",
        "\n",
        "Overall, we were able to successfully create a model to predict the market prices of used cars based on a variety of factors. While creating this model, we tested several different classifiers and regressors, and found that the BaggingRegressor and the RandomForestRegressor performed the best at predicting car prices out of them all as they had the highest $R^2$ score out of the rest. This could fit into the context of other work in the field by showing others how much sellers are willing to sell used cars for given its location and condition, and can serve as a template for the sale of other used vehicles, like trucks and vans, based on their own condition and location. Some directions for future work are that we could conduct similar experiments for used cars in other countries to see how much their market value is. Alternatively, we could take this experiment and add some more features in addition to the ones we are using now, like the car's engine condition or the size of its trunk. We could also use the same methodology to conduct a similar experiment for other vehicles (as mentioned before) or even other items altogether."
      ]
    },
    {
      "cell_type": "markdown",
      "metadata": {
        "id": "v3EkqF77rHpA"
      },
      "source": [
        "# Footnotes\n",
        "- MordorIntelligence. “US Used Car Market Research - Share, Size & Trend Analysis - Industry Report.” Mordor Intelligence, https://www.mordorintelligence.com/industry-reports/united-states-used-car-market. Accessed 21 February 2023.\n",
        "- Clark, Karen. “thredUP Releases 10th Annual Resale Report with Insights on a Decade of Resale — thredUP newsroom.” thredUP newsroom, 17 May 2022, https://newsroom.thredup.com/news/thredup-releases-10th-annual-resale-report-with-insights-on-a-decade-of-resale. Accessed 21 February 2023.\n",
        "- AlShared, Abdulla. “Used Cars Price Prediction and Valuation using Data Mining Techniques.” RIT Scholar Works, 12 2021, https://scholarworks.rit.edu/cgi/viewcontent.cgi?article=12220&context=theses. Accessed 21 February 2023.\n",
        "- Bilen, Mehmet. (2021). Predicting Used Car Prices with Heuristic Algorithms and Creating a New Dataset. 6. 29-43.\n",
        "- ACV Auctions. “Used Car Sales Data: Used Car Market Statistics: ACV Auctions.” ACV Auction, ACV Auctions, 24 June 2022, https://www.acvauctions.com/blog/used-car-sales-data.\n",
        "- iSeeCars. “How Long Will It Take You to Sell Your Used Car?” CBS 42, CBS 42, 18 Sept. 2021, https://www.cbs42.com/news/business/how-long-will-it-take-you-to-sell-your-used-car/#:~:text=Analyzing%20over%20900%2C000%20new%20and,takes%2034.6%20days%20to%20sell.\n",
        "- Yang, Richard R, et al. “AI Blue Book: Vehicle Price Prediction Using Visual Features.” 29 Mar. 2018, https://arxiv.org/pdf/1803.11227v2.pdf. Accessed 8 Mar. 2023.\n",
        "- “Pgeocode.” PyPI, https://pypi.org/project/pgeocode/. \n",
        "- “Vininfo.” PyPI, https://pypi.org/project/vininfo/. \n",
        "- Bradley, Michael. “15 Best Luxury Car Brands: Ranking of the Top Premium Vehicles.” Luxe Digital, 11 Jan. 2023, https://luxe.digital/business/digital-luxury-ranking/best-luxury-car-brands/. \n",
        "\n"
      ]
    }
  ],
  "metadata": {
    "kernelspec": {
      "display_name": "Python 3",
      "language": "python",
      "name": "python3"
    },
    "language_info": {
      "codemirror_mode": {
        "name": "ipython",
        "version": 3
      },
      "file_extension": ".py",
      "mimetype": "text/x-python",
      "name": "python",
      "nbconvert_exporter": "python",
      "pygments_lexer": "ipython3",
      "version": "3.8.8"
    },
    "colab": {
      "provenance": []
    }
  },
  "nbformat": 4,
  "nbformat_minor": 0
}